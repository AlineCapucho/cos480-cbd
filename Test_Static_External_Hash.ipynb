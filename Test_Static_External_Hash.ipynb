{
 "cells": [
  {
   "cell_type": "markdown",
   "metadata": {},
   "source": [
    "# Imports"
   ]
  },
  {
   "cell_type": "code",
   "execution_count": 1,
   "metadata": {},
   "outputs": [],
   "source": [
    "from Static_External_Hash import Static_External_Hash"
   ]
  },
  {
   "cell_type": "markdown",
   "metadata": {},
   "source": [
    "# Set Up"
   ]
  },
  {
   "cell_type": "code",
   "execution_count": 2,
   "metadata": {},
   "outputs": [],
   "source": [
    "csv_filepath = './dataset/Coffee Shop Sales.csv'"
   ]
  },
  {
   "cell_type": "code",
   "execution_count": 3,
   "metadata": {},
   "outputs": [],
   "source": [
    "block_size = 512\n",
    "myfile = Static_External_Hash(block_size=block_size)"
   ]
  },
  {
   "cell_type": "code",
   "execution_count": 4,
   "metadata": {},
   "outputs": [],
   "source": [
    "myfile.from_csv_to_txt(csv_filepath=csv_filepath)"
   ]
  },
  {
   "cell_type": "code",
   "execution_count": 5,
   "metadata": {},
   "outputs": [],
   "source": [
    "txt_filepath = './dataset/Coffee Shop Sales.txt'"
   ]
  },
  {
   "cell_type": "markdown",
   "metadata": {},
   "source": [
    "# Testing"
   ]
  },
  {
   "cell_type": "markdown",
   "metadata": {},
   "source": [
    "## Insert Single Record"
   ]
  },
  {
   "cell_type": "code",
   "execution_count": null,
   "metadata": {},
   "outputs": [],
   "source": [
    "record = '1,2023-01-01,07:06:11,2,5,Lower Manhattan,32,3.0,Coffee,Gourmet brewed coffee,Ethiopia Rg,'\n",
    "myfile.insert_single_record(txt_filepath=txt_filepath, record=record)"
   ]
  },
  {
   "cell_type": "code",
   "execution_count": null,
   "metadata": {},
   "outputs": [],
   "source": [
    "record = '999999,2023-01-01,07:06:11,2,5,Lower Manhattan,32,3.0,Coffee,Gourmet brewed coffee,Ethiopia Rg,'\n",
    "myfile.insert_single_record(txt_filepath=txt_filepath, record=record)"
   ]
  },
  {
   "cell_type": "code",
   "execution_count": null,
   "metadata": {},
   "outputs": [],
   "source": [
    "select_container = myfile.select_by_single_primary_key(txt_filepath=txt_filepath, key='999999')\n",
    "print(select_container)"
   ]
  },
  {
   "cell_type": "markdown",
   "metadata": {},
   "source": [
    "## Insert Multiple Records"
   ]
  },
  {
   "cell_type": "code",
   "execution_count": null,
   "metadata": {},
   "outputs": [],
   "source": [
    "record = lambda key : f'{key},2023-01-01,07:06:11,2,5,Lower Manhattan,32,3.0,Coffee,Gourmet brewed coffee,Ethiopia Rg,'\n",
    "records = [record(150000+i) for i in range(0, 10)]\n",
    "print(records)"
   ]
  },
  {
   "cell_type": "code",
   "execution_count": null,
   "metadata": {},
   "outputs": [],
   "source": [
    "myfile.insert_multiple_records(txt_filepath=txt_filepath, records=records)"
   ]
  },
  {
   "cell_type": "code",
   "execution_count": null,
   "metadata": {},
   "outputs": [],
   "source": [
    "keys = [str(150000+i) for i in range(0, 10)]\n",
    "for key in keys:\n",
    "    print(key)\n",
    "    select_container = myfile.select_by_single_primary_key(txt_filepath=txt_filepath, key=key)\n",
    "    print(select_container)"
   ]
  },
  {
   "cell_type": "code",
   "execution_count": null,
   "metadata": {},
   "outputs": [],
   "source": [
    "keys = [str(150000+i) for i in range(0, 10)]\n",
    "select_container = myfile.select_by_multiple_primary_key(txt_filepath=txt_filepath, keys=keys)\n",
    "print(select_container)"
   ]
  },
  {
   "cell_type": "markdown",
   "metadata": {},
   "source": [
    "## Select By Single Primary Key"
   ]
  },
  {
   "cell_type": "code",
   "execution_count": null,
   "metadata": {},
   "outputs": [],
   "source": [
    "select_container = myfile.select_by_single_primary_key(txt_filepath=txt_filepath, key='3')\n",
    "print(select_container)"
   ]
  },
  {
   "cell_type": "markdown",
   "metadata": {},
   "source": [
    "## Select By Multiple Primary Key"
   ]
  },
  {
   "cell_type": "code",
   "execution_count": null,
   "metadata": {},
   "outputs": [],
   "source": [
    "select_container = myfile.select_by_multiple_primary_key(txt_filepath=txt_filepath, keys=['3', '4', '5'])\n",
    "print(select_container)"
   ]
  },
  {
   "cell_type": "markdown",
   "metadata": {},
   "source": [
    "## Select By Field Interval"
   ]
  },
  {
   "cell_type": "code",
   "execution_count": null,
   "metadata": {},
   "outputs": [],
   "source": [
    "select_container = myfile.select_by_field_interval(txt_filepath=txt_filepath, field='transaction_date', start='2023-01-01', end='2023-01-02')\n",
    "print(select_container[:5])\n",
    "print(len(select_container))"
   ]
  },
  {
   "cell_type": "code",
   "execution_count": null,
   "metadata": {},
   "outputs": [],
   "source": [
    "select_container = myfile.select_by_field_interval(txt_filepath=txt_filepath, field='transaction_time', start='07:06:11', end='07:08:11')\n",
    "print(select_container[:5])\n",
    "print(len(select_container))"
   ]
  },
  {
   "cell_type": "markdown",
   "metadata": {},
   "source": [
    "## Select By Single Field Value"
   ]
  },
  {
   "cell_type": "code",
   "execution_count": 7,
   "metadata": {},
   "outputs": [
    {
     "name": "stdout",
     "output_type": "stream",
     "text": [
      "['1     ,2023-01-01,07:06:11,2,5,Lower Manhattan,32,3.0  ,Coffee            ,Gourmet brewed coffee,Ethiopia Rg                 ,', '4     ,2023-01-01,07:20:24,1,5,Lower Manhattan,22,2.0  ,Coffee            ,Drip coffee          ,Our Old Time Diner Blend Sm ,', '7     ,2023-01-01,07:25:49,1,5,Lower Manhattan,22,2.0  ,Coffee            ,Drip coffee          ,Our Old Time Diner Blend Sm ,', '8     ,2023-01-01,07:33:34,2,5,Lower Manhattan,28,2.0  ,Coffee            ,Gourmet brewed coffee,Columbian Medium Roast Sm   ,', '9     ,2023-01-01,07:39:13,1,5,Lower Manhattan,39,4.25 ,Coffee            ,Barista Espresso     ,Latte Rg                    ,']\n",
      "58416\n"
     ]
    }
   ],
   "source": [
    "select_container = myfile.select_by_single_field_value(txt_filepath=txt_filepath, field='product_category', value='Coffee')\n",
    "print(select_container[:5])\n",
    "print(len(select_container))"
   ]
  },
  {
   "cell_type": "markdown",
   "metadata": {},
   "source": [
    "## Delete By Primary Key"
   ]
  },
  {
   "cell_type": "code",
   "execution_count": null,
   "metadata": {},
   "outputs": [],
   "source": [
    "myfile.delete_record_by_primary_key(txt_filepath=txt_filepath, key='3')"
   ]
  },
  {
   "cell_type": "code",
   "execution_count": null,
   "metadata": {},
   "outputs": [],
   "source": [
    "select_container = myfile.select_by_single_primary_key(txt_filepath=txt_filepath, key='3')\n",
    "print(select_container)"
   ]
  },
  {
   "cell_type": "markdown",
   "metadata": {},
   "source": [
    "## Delete By Criterion"
   ]
  },
  {
   "cell_type": "code",
   "execution_count": 8,
   "metadata": {},
   "outputs": [],
   "source": [
    "myfile.delete_record_by_criterion(txt_filepath=txt_filepath, field='product_category', value='Coffee')"
   ]
  },
  {
   "cell_type": "code",
   "execution_count": 9,
   "metadata": {},
   "outputs": [
    {
     "ename": "Exception",
     "evalue": "SelectionError: Field Value nonexistent.",
     "output_type": "error",
     "traceback": [
      "\u001b[0;31m---------------------------------------------------------------------------\u001b[0m",
      "\u001b[0;31mException\u001b[0m                                 Traceback (most recent call last)",
      "Cell \u001b[0;32mIn[9], line 1\u001b[0m\n\u001b[0;32m----> 1\u001b[0m select_container \u001b[38;5;241m=\u001b[39m \u001b[43mmyfile\u001b[49m\u001b[38;5;241;43m.\u001b[39;49m\u001b[43mselect_by_single_field_value\u001b[49m\u001b[43m(\u001b[49m\u001b[43mtxt_filepath\u001b[49m\u001b[38;5;241;43m=\u001b[39;49m\u001b[43mtxt_filepath\u001b[49m\u001b[43m,\u001b[49m\u001b[43m \u001b[49m\u001b[43mfield\u001b[49m\u001b[38;5;241;43m=\u001b[39;49m\u001b[38;5;124;43m'\u001b[39;49m\u001b[38;5;124;43mproduct_category\u001b[39;49m\u001b[38;5;124;43m'\u001b[39;49m\u001b[43m,\u001b[49m\u001b[43m \u001b[49m\u001b[43mvalue\u001b[49m\u001b[38;5;241;43m=\u001b[39;49m\u001b[38;5;124;43m'\u001b[39;49m\u001b[38;5;124;43mCoffee\u001b[39;49m\u001b[38;5;124;43m'\u001b[39;49m\u001b[43m)\u001b[49m\n\u001b[1;32m      2\u001b[0m \u001b[38;5;28mprint\u001b[39m(select_container[:\u001b[38;5;241m5\u001b[39m])\n\u001b[1;32m      3\u001b[0m \u001b[38;5;28mprint\u001b[39m(\u001b[38;5;28mlen\u001b[39m(select_container))\n",
      "File \u001b[0;32m~/Documents/Undergraduate/10º Semester/Construção de Banco de Dados/Trabalhos/Trabalho 1/cos480-cbd/Static_External_Hash.py:593\u001b[0m, in \u001b[0;36mStatic_External_Hash.select_by_single_field_value\u001b[0;34m(self, txt_filepath, field, value)\u001b[0m\n\u001b[1;32m    591\u001b[0m     \u001b[38;5;66;03m# Deletes txt file\u001b[39;00m\n\u001b[1;32m    592\u001b[0m     \u001b[38;5;28mself\u001b[39m\u001b[38;5;241m.\u001b[39m_delete_txt_file(txt_filepath\u001b[38;5;241m=\u001b[39mtxt_filepath)\n\u001b[0;32m--> 593\u001b[0m     \u001b[38;5;28;01mraise\u001b[39;00m \u001b[38;5;167;01mException\u001b[39;00m(\u001b[38;5;124m'\u001b[39m\u001b[38;5;124mSelectionError: Field Value nonexistent.\u001b[39m\u001b[38;5;124m'\u001b[39m)\n\u001b[1;32m    594\u001b[0m \u001b[38;5;28;01melse\u001b[39;00m:\n\u001b[1;32m    595\u001b[0m     \u001b[38;5;28mself\u001b[39m\u001b[38;5;241m.\u001b[39m_select(select_container\u001b[38;5;241m=\u001b[39mselect_container, block_id\u001b[38;5;241m=\u001b[39mi, record_id\u001b[38;5;241m=\u001b[39mj, file\u001b[38;5;241m=\u001b[39mfile)\n",
      "\u001b[0;31mException\u001b[0m: SelectionError: Field Value nonexistent."
     ]
    }
   ],
   "source": [
    "select_container = myfile.select_by_single_field_value(txt_filepath=txt_filepath, field='product_category', value='Coffee')\n",
    "print(select_container[:5])\n",
    "print(len(select_container))"
   ]
  },
  {
   "cell_type": "code",
   "execution_count": 10,
   "metadata": {},
   "outputs": [],
   "source": [
    "myfile.delete_record_by_criterion(txt_filepath=txt_filepath, field='transaction_date', value='2023-01-01')"
   ]
  },
  {
   "cell_type": "code",
   "execution_count": 11,
   "metadata": {},
   "outputs": [
    {
     "ename": "Exception",
     "evalue": "SelectionError: Field Value nonexistent.",
     "output_type": "error",
     "traceback": [
      "\u001b[0;31m---------------------------------------------------------------------------\u001b[0m",
      "\u001b[0;31mException\u001b[0m                                 Traceback (most recent call last)",
      "Cell \u001b[0;32mIn[11], line 1\u001b[0m\n\u001b[0;32m----> 1\u001b[0m select_container \u001b[38;5;241m=\u001b[39m \u001b[43mmyfile\u001b[49m\u001b[38;5;241;43m.\u001b[39;49m\u001b[43mselect_by_single_field_value\u001b[49m\u001b[43m(\u001b[49m\u001b[43mtxt_filepath\u001b[49m\u001b[38;5;241;43m=\u001b[39;49m\u001b[43mtxt_filepath\u001b[49m\u001b[43m,\u001b[49m\u001b[43m \u001b[49m\u001b[43mfield\u001b[49m\u001b[38;5;241;43m=\u001b[39;49m\u001b[38;5;124;43m'\u001b[39;49m\u001b[38;5;124;43mtransaction_date\u001b[39;49m\u001b[38;5;124;43m'\u001b[39;49m\u001b[43m,\u001b[49m\u001b[43m \u001b[49m\u001b[43mvalue\u001b[49m\u001b[38;5;241;43m=\u001b[39;49m\u001b[38;5;124;43m'\u001b[39;49m\u001b[38;5;124;43m2023-01-01\u001b[39;49m\u001b[38;5;124;43m'\u001b[39;49m\u001b[43m)\u001b[49m\n\u001b[1;32m      2\u001b[0m \u001b[38;5;28mprint\u001b[39m(select_container[:\u001b[38;5;241m5\u001b[39m])\n\u001b[1;32m      3\u001b[0m \u001b[38;5;28mprint\u001b[39m(\u001b[38;5;28mlen\u001b[39m(select_container))\n",
      "File \u001b[0;32m~/Documents/Undergraduate/10º Semester/Construção de Banco de Dados/Trabalhos/Trabalho 1/cos480-cbd/Static_External_Hash.py:593\u001b[0m, in \u001b[0;36mStatic_External_Hash.select_by_single_field_value\u001b[0;34m(self, txt_filepath, field, value)\u001b[0m\n\u001b[1;32m    591\u001b[0m     \u001b[38;5;66;03m# Deletes txt file\u001b[39;00m\n\u001b[1;32m    592\u001b[0m     \u001b[38;5;28mself\u001b[39m\u001b[38;5;241m.\u001b[39m_delete_txt_file(txt_filepath\u001b[38;5;241m=\u001b[39mtxt_filepath)\n\u001b[0;32m--> 593\u001b[0m     \u001b[38;5;28;01mraise\u001b[39;00m \u001b[38;5;167;01mException\u001b[39;00m(\u001b[38;5;124m'\u001b[39m\u001b[38;5;124mSelectionError: Field Value nonexistent.\u001b[39m\u001b[38;5;124m'\u001b[39m)\n\u001b[1;32m    594\u001b[0m \u001b[38;5;28;01melse\u001b[39;00m:\n\u001b[1;32m    595\u001b[0m     \u001b[38;5;28mself\u001b[39m\u001b[38;5;241m.\u001b[39m_select(select_container\u001b[38;5;241m=\u001b[39mselect_container, block_id\u001b[38;5;241m=\u001b[39mi, record_id\u001b[38;5;241m=\u001b[39mj, file\u001b[38;5;241m=\u001b[39mfile)\n",
      "\u001b[0;31mException\u001b[0m: SelectionError: Field Value nonexistent."
     ]
    }
   ],
   "source": [
    "select_container = myfile.select_by_single_field_value(txt_filepath=txt_filepath, field='transaction_date', value='2023-01-01')\n",
    "print(select_container[:5])\n",
    "print(len(select_container))"
   ]
  }
 ],
 "metadata": {
  "kernelspec": {
   "display_name": "General_Work_Kernel",
   "language": "python",
   "name": "general_work_kernel"
  },
  "language_info": {
   "codemirror_mode": {
    "name": "ipython",
    "version": 3
   },
   "file_extension": ".py",
   "mimetype": "text/x-python",
   "name": "python",
   "nbconvert_exporter": "python",
   "pygments_lexer": "ipython3",
   "version": "3.11.5"
  }
 },
 "nbformat": 4,
 "nbformat_minor": 2
}
